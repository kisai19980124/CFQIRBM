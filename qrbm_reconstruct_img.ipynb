{
 "cells": [
  {
   "cell_type": "code",
   "execution_count": 1,
   "metadata": {},
   "outputs": [],
   "source": [
    "import numpy as np\n",
    "import timeit\n",
    "import matplotlib.pyplot as plt\n",
    "from tqdm import tqdm_notebook as tqdm\n",
    "\n",
    "from qrbm.qrbm import QRBM\n",
    "\n",
    "image_height = 6\n",
    "image_width = 6\n",
    "\n",
    "len_x = image_height * image_width\n",
    "len_y = 0\n",
    "\n",
    "bm = QRBM(n_visible=len_x, n_hidden=56)\n",
    "f = open(\"6x6.txt\")\n",
    "data = [[int(data) for data in f.read() if data in \"01\"]]"
   ]
  },
  {
   "cell_type": "code",
   "execution_count": 2,
   "metadata": {},
   "outputs": [
    {
     "data": {
      "text/plain": [
       "56"
      ]
     },
     "execution_count": 2,
     "metadata": {},
     "output_type": "execute_result"
    }
   ],
   "source": [
    "bm.n_hidden"
   ]
  },
  {
   "cell_type": "code",
   "execution_count": 3,
   "metadata": {
    "scrolled": true
   },
   "outputs": [
    {
     "data": {
      "text/plain": [
       "<matplotlib.image.AxesImage at 0x1841ae61278>"
      ]
     },
     "execution_count": 3,
     "metadata": {},
     "output_type": "execute_result"
    },
    {
     "data": {
      "image/png": "[encoded data removed]",
      "text/plain": [
       "<Figure size 432x288 with 1 Axes>"
      ]
     },
     "metadata": {},
     "output_type": "display_data"
    }
   ],
   "source": [
    "img = np.array(data).reshape(image_height,-1)\n",
    "plt.imshow(img)"
   ]
  },
  {
   "cell_type": "code",
   "execution_count": 4,
   "metadata": {},
   "outputs": [],
   "source": [
    "bm.image_height = image_height\n",
    "bm.tqdm = tqdm"
   ]
  },
  {
   "cell_type": "code",
   "execution_count": 5,
   "metadata": {
    "scrolled": false
   },
   "outputs": [
    {
     "data": {
      "application/vnd.jupyter.widget-view+json": {
       "model_id": "26ac82e9b43e4d8f8fd8d9f4e37df26b",
       "version_major": 2,
       "version_minor": 0
      },
      "text/plain": [
       "HBox(children=(IntProgress(value=0, max=5), HTML(value='')))"
      ]
     },
     "metadata": {},
     "output_type": "display_data"
    },
    {
     "name": "stdout",
     "output_type": "stream",
     "text": [
      "epoch # 0    training data: [1, 0, 1, 0, 1, 0, 0, 1, 0, 1, 0, 1, 1, 0, 1, 0, 1, 0, 0, 1, 0, 1, 0, 1, 1, 0, 1, 0, 1, 0, 0, 1, 0, 1, 0, 1]\n",
      "epoch # 1    training data: [1, 0, 1, 0, 1, 0, 0, 1, 0, 1, 0, 1, 1, 0, 1, 0, 1, 0, 0, 1, 0, 1, 0, 1, 1, 0, 1, 0, 1, 0, 0, 1, 0, 1, 0, 1]\n",
      "epoch # 2    training data: [1, 0, 1, 0, 1, 0, 0, 1, 0, 1, 0, 1, 1, 0, 1, 0, 1, 0, 0, 1, 0, 1, 0, 1, 1, 0, 1, 0, 1, 0, 0, 1, 0, 1, 0, 1]\n",
      "epoch # 3    training data: [1, 0, 1, 0, 1, 0, 0, 1, 0, 1, 0, 1, 1, 0, 1, 0, 1, 0, 0, 1, 0, 1, 0, 1, 1, 0, 1, 0, 1, 0, 0, 1, 0, 1, 0, 1]\n",
      "epoch # 4    training data: [1, 0, 1, 0, 1, 0, 0, 1, 0, 1, 0, 1, 1, 0, 1, 0, 1, 0, 0, 1, 0, 1, 0, 1, 1, 0, 1, 0, 1, 0, 0, 1, 0, 1, 0, 1]\n",
      "dict_items([('[,0,]', 0.36501149363136354), ('[,1,]', 0.02900110176528246)])\n",
      "['0']\n",
      "dict_items([('[,1,]', 0.2700383939982033), ('[,0,]', 0.12397420139844269)])\n",
      "['1']\n",
      "dict_items([('[,1,]', 0.3850049182453594), ('[,0,]', 0.0090076771512866)])\n",
      "['1']\n",
      "dict_items([('[,0,]', 0.23297994763546687), ('[,1,]', 0.16103264776117884)])\n",
      "['0']\n",
      "dict_items([('[,0,]', 0.394012595396646)])\n",
      "['0']\n",
      "dict_items([('[,0,]', 0.3850029031780834), ('[,1,]', 0.009009692218562496)])\n",
      "['0']\n",
      "dict_items([('[,0,]', 0.1859505415725681), ('[,1,]', 0.20806205382407758)])\n",
      "['1']\n",
      "dict_items([('[,1,]', 0.3020785962423884), ('[,0,]', 0.09193399915425754)])\n",
      "['1']\n",
      "dict_items([('[,0,]', 0.37303353575705345), ('[,1,]', 0.02097905963959254)])\n",
      "['0']\n",
      "dict_items([('[,1,]', 0.25295486648453364), ('[,0,]', 0.14105772891211216)])\n",
      "['1']\n",
      "dict_items([('[,1,]', 0.26999013850555975), ('[,0,]', 0.12402245689108618)])\n",
      "['1']\n",
      "dict_items([('[,1,]', 0.24796430476429018), ('[,0,]', 0.14604829063235558)])\n",
      "['1']\n",
      "dict_items([('[,0,]', 0.1759843308194103), ('[,1,]', 0.21802826457723543)])\n",
      "['1']\n",
      "dict_items([('[,0,]', 0.36602306714963895), ('[,1,]', 0.02798952824700713)])\n",
      "['0']\n",
      "dict_items([('[,1,]', 0.38402437311674537), ('[,0,]', 0.009988222279900575)])\n",
      "['1']\n",
      "dict_items([('[,1,]', 0.24797710731020958), ('[,0,]', 0.14603548808643613)])\n",
      "['1']\n",
      "dict_items([('[,0,]', 0.394012595396646)])\n",
      "['0']\n",
      "dict_items([('[,1,]', 0.3840242895499569), ('[,0,]', 0.00998830584668908)])\n",
      "['1']\n",
      "dict_items([('[,0,]', 0.3760166673904139), ('[,1,]', 0.017995928006232145)])\n",
      "['0']\n",
      "dict_items([('[,0,]', 0.39200760989232325), ('[,1,]', 0.002004985504322778)])\n",
      "['0']\n",
      "dict_items([('[,1,]', 0.2500225456644298), ('[,0,]', 0.14399004973221596)])\n",
      "['1']\n",
      "dict_items([('[,1,]', 0.3780316510776772), ('[,0,]', 0.01598094431896868)])\n",
      "['1']\n",
      "dict_items([('[,1,]', 0.374008273401289), ('[,0,]', 0.020004321995357004)])\n",
      "['1']\n",
      "dict_items([('[,1,]', 0.3820052807211055), ('[,0,]', 0.012007314675540427)])\n",
      "['1']\n",
      "dict_items([('[,0,]', 0.19502892147634773), ('[,1,]', 0.19898367392029803)])\n",
      "['1']\n",
      "dict_items([('[,1,]', 0.394012595396646)])\n",
      "['1']\n",
      "dict_items([('[,0,]', 0.20803406058907128), ('[,1,]', 0.18597853480757454)])\n",
      "['0']\n",
      "dict_items([('[,0,]', 0.39303526414815404), ('[,1,]', 0.0009773312484919812)])\n",
      "['0']\n",
      "dict_items([('[,1,]', 0.394012595396646)])\n",
      "['1']\n",
      "dict_items([('[,1,]', 0.394012595396646)])\n",
      "['1']\n",
      "dict_items([('[,1,]', 0.384003022471398), ('[,0,]', 0.010009572925248095)])\n",
      "['1']\n",
      "dict_items([('[,1,]', 0.37804886868596665), ('[,0,]', 0.015963726710679246)])\n",
      "['1']\n",
      "dict_items([('[,0,]', 0.16301967673002682), ('[,1,]', 0.230992918666619)])\n",
      "['1']\n",
      "dict_items([('[,0,]', 0.3920271152871861), ('[,1,]', 0.001985480109459906)])\n",
      "['0']\n",
      "dict_items([('[,1,]', 0.25201917837294785), ('[,0,]', 0.14199341702369803)])\n",
      "['1']\n",
      "dict_items([('[,1,]', 0.374009547356941), ('[,0,]', 0.020003048039704985)])\n",
      "['1']\n",
      "dict_items([('[,1,]', 0.394012595396646)])\n",
      "['1']\n",
      "dict_items([('[,1,]', 0.394012595396646)])\n",
      "['1']\n",
      "dict_items([('[,1,]', 0.394012595396646)])\n",
      "['1']\n",
      "dict_items([('[,1,]', 0.394012595396646)])\n",
      "['1']\n",
      "dict_items([('[,1,]', 0.05507259186757372), ('[,0,]', 0.3389400035290724)])\n",
      "['0']\n",
      "dict_items([('[,1,]', 0.394012595396646)])\n",
      "['1']\n",
      "dict_items([('[,1,]', 0.394012595396646)])\n",
      "['1']\n",
      "dict_items([('[,1,]', 0.394012595396646)])\n",
      "['1']\n",
      "dict_items([('[,1,]', 0.3770457106445016), ('[,0,]', 0.01696688475214441)])\n",
      "['1']\n",
      "dict_items([('[,1,]', 0.394012595396646)])\n",
      "['1']\n",
      "dict_items([('[,1,]', 0.394012595396646)])\n",
      "['1']\n",
      "dict_items([('[,1,]', 0.394012595396646)])\n",
      "['1']\n",
      "dict_items([('[,1,]', 0.394012595396646)])\n",
      "['1']\n",
      "dict_items([('[,1,]', 0.3820125708568122), ('[,0,]', 0.012000024539833702)])\n",
      "['1']\n",
      "dict_items([('[,1,]', 0.394012595396646)])\n",
      "['1']\n",
      "dict_items([('[,1,]', 0.394012595396646)])\n",
      "['1']\n",
      "dict_items([('[,0,]', 0.394012595396646)])\n",
      "['0']\n",
      "dict_items([('[,1,]', 0.394012595396646)])\n",
      "['1']\n",
      "dict_items([('[,1,]', 0.394012595396646)])\n",
      "['1']\n",
      "dict_items([('[,0,]', 0.394012595396646)])\n",
      "['0']\n",
      "\n"
     ]
    },
    {
     "data": {
      "image/png": "[encoded data removed]",
      "text/plain": [
       "<Figure size 432x288 with 1 Axes>"
      ]
     },
     "metadata": {},
     "output_type": "display_data"
    },
    {
     "data": {
      "image/png": "[encoded data removed]",
      "text/plain": [
       "<Figure size 432x288 with 1 Axes>"
      ]
     },
     "metadata": {},
     "output_type": "display_data"
    },
    {
     "data": {
      "image/png": "[encoded data removed]",
      "text/plain": [
       "<Figure size 432x288 with 1 Axes>"
      ]
     },
     "metadata": {},
     "output_type": "display_data"
    },
    {
     "data": {
      "image/png": "[encoded data removed]",
      "text/plain": [
       "<Figure size 432x288 with 1 Axes>"
      ]
     },
     "metadata": {},
     "output_type": "display_data"
    },
    {
     "data": {
      "image/png": "[encoded data removed]",
      "text/plain": [
       "<Figure size 432x288 with 1 Axes>"
      ]
     },
     "metadata": {},
     "output_type": "display_data"
    },
    {
     "data": {
      "image/png": "[encoded data removed]",
      "text/plain": [
       "<Figure size 432x288 with 1 Axes>"
      ]
     },
     "metadata": {},
     "output_type": "display_data"
    }
   ],
   "source": [
    "bm.train(data, len_x, len_y, epochs = 10, num_samps = 1, lr = 1000, decay = 0.01, epochs_to_test = 1, print_training_data=True)"
   ]
  },
  {
   "cell_type": "code",
   "execution_count": null,
   "metadata": {},
   "outputs": [],
   "source": []
  },
  {
   "cell_type": "markdown",
   "metadata": {},
   "source": [
    "### See random sampling results"
   ]
  },
  {
   "cell_type": "code",
   "execution_count": 10,
   "metadata": {},
   "outputs": [
    {
     "data": {
      "image/png": "[encoded data removed]",
      "text/plain": [
       "<Figure size 432x288 with 1 Axes>"
      ]
     },
     "metadata": {},
     "output_type": "display_data"
    },
    {
     "data": {
      "image/png": "[encoded data removed]",
      "text/plain": [
       "<Figure size 432x288 with 1 Axes>"
      ]
     },
     "metadata": {},
     "output_type": "display_data"
    },
    {
     "data": {
      "image/png": "[encoded data removed]",
      "text/plain": [
       "<Figure size 432x288 with 1 Axes>"
      ]
     },
     "metadata": {},
     "output_type": "display_data"
    },
    {
     "data": {
      "image/png": "[encoded data removed]",
      "text/plain": [
       "<Figure size 432x288 with 1 Axes>"
      ]
     },
     "metadata": {},
     "output_type": "display_data"
    },
    {
     "data": {
      "image/png": "[encoded data removed]",
      "text/plain": [
       "<Figure size 432x288 with 1 Axes>"
      ]
     },
     "metadata": {},
     "output_type": "display_data"
    },
    {
     "data": {
      "image/png": "[encoded data removed]",
      "text/plain": [
       "<Figure size 432x288 with 1 Axes>"
      ]
     },
     "metadata": {},
     "output_type": "display_data"
    },
    {
     "data": {
      "image/png": "[encoded data removed]",
      "text/plain": [
       "<Figure size 432x288 with 1 Axes>"
      ]
     },
     "metadata": {},
     "output_type": "display_data"
    },
    {
     "data": {
      "image/png": "[encoded data removed]",
      "text/plain": [
       "<Figure size 432x288 with 1 Axes>"
      ]
     },
     "metadata": {},
     "output_type": "display_data"
    },
    {
     "data": {
      "image/png": "[encoded data removed]",
      "text/plain": [
       "<Figure size 432x288 with 1 Axes>"
      ]
     },
     "metadata": {},
     "output_type": "display_data"
    },
    {
     "data": {
      "image/png": "[encoded data removed]",
      "text/plain": [
       "<Figure size 432x288 with 1 Axes>"
      ]
     },
     "metadata": {},
     "output_type": "display_data"
    }
   ],
   "source": [
    "for test in range(10):\n",
    "    samples = bm.sample_qubo(num_samps=1)\n",
    "    sample = samples[0]\n",
    "    plt.figure()\n",
    "    plt.axis('off')\n",
    "    plt.title(\"Image reconstructed after training\", y=1.03)\n",
    "    ar=np.empty(0)\n",
    "    for k in range (len_x):\n",
    "        ar=np.append(ar,sample[k])\n",
    "    plt.imshow(ar.reshape(image_height, -1))\n",
    "    #plt.imshow(sample[:len_x].reshape(image_height, -1))"
   ]
  },
  {
   "cell_type": "code",
   "execution_count": 6,
   "metadata": {},
   "outputs": [],
   "source": [
    "x=['0', '.']"
   ]
  },
  {
   "cell_type": "code",
   "execution_count": 7,
   "metadata": {},
   "outputs": [],
   "source": [
    "x.remove('.')"
   ]
  },
  {
   "cell_type": "code",
   "execution_count": 8,
   "metadata": {},
   "outputs": [
    {
     "data": {
      "text/plain": [
       "['0']"
      ]
     },
     "execution_count": 8,
     "metadata": {},
     "output_type": "execute_result"
    }
   ],
   "source": [
    "x"
   ]
  },
  {
   "cell_type": "code",
   "execution_count": null,
   "metadata": {},
   "outputs": [],
   "source": []
  }
 ],
 "metadata": {
  "kernelspec": {
   "display_name": "Python 3",
   "language": "python",
   "name": "python3"
  },
  "language_info": {
   "codemirror_mode": {
    "name": "ipython",
    "version": 3
   },
   "file_extension": ".py",
   "mimetype": "text/x-python",
   "name": "python",
   "nbconvert_exporter": "python",
   "pygments_lexer": "ipython3",
   "version": "3.6.5"
  }
 },
 "nbformat": 4,
 "nbformat_minor": 2
}
